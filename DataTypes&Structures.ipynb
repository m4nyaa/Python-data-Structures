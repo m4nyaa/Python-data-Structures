{
  "nbformat": 4,
  "nbformat_minor": 0,
  "metadata": {
    "colab": {
      "provenance": []
    },
    "kernelspec": {
      "name": "python3",
      "display_name": "Python 3"
    },
    "language_info": {
      "name": "python"
    }
  },
  "cells": [
    {
      "cell_type": "markdown",
      "source": [
        "1. What are data structures and why are they important?\n",
        "  - Data structures are ways of organizing and storing data so that it can be accessed and modified efficiently.\n",
        "  They're important because they help improve the performance and scalability of programs.\n",
        "2.Explain the difference between mutable and immutable data types with examples.\n",
        "  - MUTABLE DATATYPE: Datatypes whose values can be changed. eg - lists\n",
        "  IMMUTABLE DATATYPE:Datatypes which can  not be changed after creation. eg- tuples\n",
        "3. What are the main differences between lists and tuples in Python?\n",
        "  - Lists are mutable while tuples are not.\n",
        "4.Describe how dictionaries store data.\n",
        "  -Dictionaries store data using a key-value pair system. eg:\n",
        "  {\"course\" : \"datascie\" , \"duration\": 6}\n",
        "5.Why might you use a set instead of a list in Python?\n",
        "  - Sets are used where objects should not be duplicates.\n",
        "6. What is a string in Python, and how is it different from a list?\n",
        "  - String is a sequence of characters and is immutable, unlike lists.\n",
        "7.How do tuples ensure data integrity in Python?\n",
        "  -Tuples are immutable, so their values can't be changed, ensuring data stays constant.\n",
        "8.What is a hash table, and how does it relate to dictionaries in Python?\n",
        "  -A hash table stores key-value pairs using a hash function; Python dictionaries are built on hash tables.\n",
        "\n",
        "9.Can lists contain different data types in Python?\n",
        "  -Yes. eg: L=['sunday', 12, True , 'abc']\n",
        "\n",
        "10.Why are strings immutable in Python?\n",
        "  -For performance and security; it allows string reuse and makes them hashable.\n",
        "\n",
        "11.What advantages do dictionaries offer over lists?\n",
        "  -Faster lookups by key, better for structured data with unique identifiers.\n",
        "\n",
        "12.When is a tuple preferable over a list?\n",
        "  -When you need to store fixed, unchangeable data, like coordinates or config settings.\n",
        "\n",
        "13.How do sets handle duplicate values in Python?\n",
        "  -Sets automatically discard duplicates.\n",
        "\n",
        "14.How does the “in” keyword work differently for lists and dictionaries?\n",
        "  -In lists: checks for a value; in dictionaries: checks for a key.\n",
        "\n",
        "15.Can you modify the elements of a tuple? Why or why not?  \n",
        "  -No, tuples are immutable—you can't change their elements after creation.\n",
        "\n",
        "16.What is a nested dictionary,and give an example of its use case3\n",
        "   -A dictionary within another dictionary.  \n",
        "   Example:{\"user1\": {\"name\": \"Akshat\", \"age\": 25}}\n",
        "\n",
        "17.Describe the time complexity of accessing elements in a dictionary.\n",
        "   -Average case: **O(1)** (constant time).\n",
        "\n",
        "18.In what situations are lists preferred over dictionaries?\n",
        "   -When order matters or when storing simple, sequential data.\n",
        "\n",
        "19.Why are dictionaries considered unordered, and how does that affect data retrieval?\n",
        "   -Dictionaries were considered unordered because they didn't preserve the order of items; retrieval is by key, not position.\n",
        "\n",
        "20. Explain the difference between a list and a dictionary in data   retrieval?\n",
        "   -Lists use indexes (positions); dictionaries use keys for quick access."
      ],
      "metadata": {
        "id": "DMMCOQnmdhxf"
      }
    },
    {
      "cell_type": "code",
      "source": [
        "#1.write a code to create a string with your name and print it\n",
        "name = 'Manya Dawar'\n",
        "print(name)"
      ],
      "metadata": {
        "colab": {
          "base_uri": "https://localhost:8080/"
        },
        "id": "ds-UJOnYUi5a",
        "outputId": "88cec970-b927-4476-f1f8-019fcaa43975"
      },
      "execution_count": 1,
      "outputs": [
        {
          "output_type": "stream",
          "name": "stdout",
          "text": [
            "Manya Dawar\n"
          ]
        }
      ]
    },
    {
      "cell_type": "code",
      "source": [
        "#2.Write a code to find the length of the string \"Hello World\".\n",
        "s= 'Hello World'\n",
        "print(len(s))"
      ],
      "metadata": {
        "colab": {
          "base_uri": "https://localhost:8080/"
        },
        "id": "HFSZkqG_V3gx",
        "outputId": "9152c061-eebe-4939-d474-520fbfad2e81"
      },
      "execution_count": 2,
      "outputs": [
        {
          "output_type": "stream",
          "name": "stdout",
          "text": [
            "11\n"
          ]
        }
      ]
    },
    {
      "cell_type": "code",
      "source": [
        "#3.Write a code to slice the first 3 characters from the string \"Python Programming\".\n",
        "c=\"Python Programming\"\n",
        "c[:3]"
      ],
      "metadata": {
        "colab": {
          "base_uri": "https://localhost:8080/",
          "height": 36
        },
        "id": "6Zb5hpB9WTOT",
        "outputId": "51a76abc-e4e5-4beb-84e7-400423ae8913"
      },
      "execution_count": 4,
      "outputs": [
        {
          "output_type": "execute_result",
          "data": {
            "text/plain": [
              "'Pyt'"
            ],
            "application/vnd.google.colaboratory.intrinsic+json": {
              "type": "string"
            }
          },
          "metadata": {},
          "execution_count": 4
        }
      ]
    },
    {
      "cell_type": "code",
      "source": [
        "#4.Write a code to convert the string \"hello\" to uppercase.\n",
        "c='hello'\n",
        "C= c.upper()\n",
        "C"
      ],
      "metadata": {
        "colab": {
          "base_uri": "https://localhost:8080/",
          "height": 36
        },
        "id": "0c-zuk4_WmG3",
        "outputId": "56e8e2b8-31ef-4b21-dab3-c6b219a40704"
      },
      "execution_count": 5,
      "outputs": [
        {
          "output_type": "execute_result",
          "data": {
            "text/plain": [
              "'HELLO'"
            ],
            "application/vnd.google.colaboratory.intrinsic+json": {
              "type": "string"
            }
          },
          "metadata": {},
          "execution_count": 5
        }
      ]
    },
    {
      "cell_type": "code",
      "source": [
        "#5.replace the word \"apple\" with \"orange\" in the string \"I like apple\"\n",
        "s= 'I like apple'\n",
        "s=s.replace('apple','orange')\n",
        "s"
      ],
      "metadata": {
        "colab": {
          "base_uri": "https://localhost:8080/",
          "height": 36
        },
        "id": "hfbmAISKW2lA",
        "outputId": "42c8d14f-94e6-401f-d819-e7e671153e0f"
      },
      "execution_count": 7,
      "outputs": [
        {
          "output_type": "execute_result",
          "data": {
            "text/plain": [
              "'I like orange'"
            ],
            "application/vnd.google.colaboratory.intrinsic+json": {
              "type": "string"
            }
          },
          "metadata": {},
          "execution_count": 7
        }
      ]
    },
    {
      "cell_type": "code",
      "source": [
        "#6.Write a code to create a list with numbers 1 to 5 and print it\n",
        "l=[]\n",
        "for i in range(1,6):\n",
        "  l.append(i)\n",
        "print(l)"
      ],
      "metadata": {
        "colab": {
          "base_uri": "https://localhost:8080/"
        },
        "id": "RS_VfAPGXLqJ",
        "outputId": "fd81a024-3866-4fa5-fcc9-118e6db2fb16"
      },
      "execution_count": 8,
      "outputs": [
        {
          "output_type": "stream",
          "name": "stdout",
          "text": [
            "[1, 2, 3, 4, 5]\n"
          ]
        }
      ]
    },
    {
      "cell_type": "code",
      "source": [
        "#7.Write a code to append the number 10 to the list [1, 2, 3, 4]\n",
        "l=[1,2,3,4]\n",
        "l.append(10)\n",
        "l"
      ],
      "metadata": {
        "colab": {
          "base_uri": "https://localhost:8080/"
        },
        "id": "JFEVw5bAXkUO",
        "outputId": "9d36c303-a64e-4b59-90f5-458e6365d589"
      },
      "execution_count": 9,
      "outputs": [
        {
          "output_type": "execute_result",
          "data": {
            "text/plain": [
              "[1, 2, 3, 4, 10]"
            ]
          },
          "metadata": {},
          "execution_count": 9
        }
      ]
    },
    {
      "cell_type": "code",
      "source": [
        "#8.Write a code to remove the number 3 from the list [1, 2, 3, 4, 5]\n",
        "l= [1, 2, 3, 4, 5]\n",
        "l.remove(3)\n",
        "l"
      ],
      "metadata": {
        "colab": {
          "base_uri": "https://localhost:8080/"
        },
        "id": "Gs6muPGfXyPj",
        "outputId": "a9ef85c4-60fa-452e-e7f5-b4059ee39eb0"
      },
      "execution_count": 10,
      "outputs": [
        {
          "output_type": "execute_result",
          "data": {
            "text/plain": [
              "[1, 2, 4, 5]"
            ]
          },
          "metadata": {},
          "execution_count": 10
        }
      ]
    },
    {
      "cell_type": "code",
      "source": [
        "#9.Write a code to access the second element in the list ['a', 'b', 'c', 'd']\n",
        "l1=['a', 'b', 'c', 'd']\n",
        "sec_element = l1[1]\n",
        "print(sec_element)"
      ],
      "metadata": {
        "colab": {
          "base_uri": "https://localhost:8080/"
        },
        "id": "SxBYEgI_X_qa",
        "outputId": "68870be4-aec0-46f8-bf41-e115fd1b66c4"
      },
      "execution_count": 11,
      "outputs": [
        {
          "output_type": "stream",
          "name": "stdout",
          "text": [
            "b\n"
          ]
        }
      ]
    },
    {
      "cell_type": "code",
      "source": [
        "#10.Write a code to reverse the list [10, 20, 30, 40, 50].\n",
        "lis= [10, 20, 30, 40, 50]\n",
        "rev_list= lis[::-1]\n",
        "print(rev_list)"
      ],
      "metadata": {
        "colab": {
          "base_uri": "https://localhost:8080/"
        },
        "id": "e6-6tF5ZYYQl",
        "outputId": "b9e599a7-b0bc-402a-d721-92285844b156"
      },
      "execution_count": 12,
      "outputs": [
        {
          "output_type": "stream",
          "name": "stdout",
          "text": [
            "[50, 40, 30, 20, 10]\n"
          ]
        }
      ]
    },
    {
      "cell_type": "code",
      "source": [
        "#11. Write a code to create a tuple with the elements 100, 200, 300 and print it\n",
        "tup=(100, 200, 300)\n",
        "print(tup)"
      ],
      "metadata": {
        "colab": {
          "base_uri": "https://localhost:8080/"
        },
        "id": "bpUhMkTpYubM",
        "outputId": "1c7f6327-d41d-4664-b048-206a3a9f0e6a"
      },
      "execution_count": 13,
      "outputs": [
        {
          "output_type": "stream",
          "name": "stdout",
          "text": [
            "(100, 200, 300)\n"
          ]
        }
      ]
    },
    {
      "cell_type": "code",
      "source": [
        "#12.access the second last element ('red', 'green', 'blue', 'yellow').\n",
        "t= ('red', 'green', 'blue', 'yellow')\n",
        "sl_element= t[-2]\n",
        "sl_element"
      ],
      "metadata": {
        "colab": {
          "base_uri": "https://localhost:8080/",
          "height": 36
        },
        "id": "WJn6vqpkY5lK",
        "outputId": "2371a697-4a58-4439-e8f6-e330ff52639c"
      },
      "execution_count": 14,
      "outputs": [
        {
          "output_type": "execute_result",
          "data": {
            "text/plain": [
              "'blue'"
            ],
            "application/vnd.google.colaboratory.intrinsic+json": {
              "type": "string"
            }
          },
          "metadata": {},
          "execution_count": 14
        }
      ]
    },
    {
      "cell_type": "code",
      "source": [
        "#13. minimum number in the tuple (10, 20, 5, 15)\n",
        "t=(10, 20, 5, 15)\n",
        "min(t)"
      ],
      "metadata": {
        "colab": {
          "base_uri": "https://localhost:8080/"
        },
        "id": "KEccx6nHZRAp",
        "outputId": "0cd9328d-5254-4efe-9495-8043212b836d"
      },
      "execution_count": 15,
      "outputs": [
        {
          "output_type": "execute_result",
          "data": {
            "text/plain": [
              "5"
            ]
          },
          "metadata": {},
          "execution_count": 15
        }
      ]
    },
    {
      "cell_type": "code",
      "source": [
        "#14.index of the element \"cat\" in the tuple ('dog', 'cat', 'rabbit').\n",
        "t=('dog', 'cat','rabbit')\n",
        "t.index('cat')"
      ],
      "metadata": {
        "colab": {
          "base_uri": "https://localhost:8080/"
        },
        "id": "S9JsslA4ZqoH",
        "outputId": "0eed4789-42b6-4636-81f9-f1cb85c0697f"
      },
      "execution_count": 17,
      "outputs": [
        {
          "output_type": "execute_result",
          "data": {
            "text/plain": [
              "1"
            ]
          },
          "metadata": {},
          "execution_count": 17
        }
      ]
    },
    {
      "cell_type": "code",
      "source": [
        "#15.tuple containing three different fruits and check if \"kiwi\" is in it\n",
        "t=('orange', 'apple','banana')\n",
        "if 'kiwi' in t:\n",
        "  print(\"kiwi is in the tuple\")\n",
        "else:\n",
        "  print(\"kiwi not in the tuple\")"
      ],
      "metadata": {
        "colab": {
          "base_uri": "https://localhost:8080/"
        },
        "id": "vX8gdr10aBE1",
        "outputId": "1b3a8ca4-9213-477a-ac84-7ab1b002c6d1"
      },
      "execution_count": 18,
      "outputs": [
        {
          "output_type": "stream",
          "name": "stdout",
          "text": [
            "kiwi not in the tuple\n"
          ]
        }
      ]
    },
    {
      "cell_type": "code",
      "source": [
        "#16.set with the elements 'a', 'b', 'c' and print it\n",
        "s={'a','b','c'}\n",
        "s"
      ],
      "metadata": {
        "colab": {
          "base_uri": "https://localhost:8080/"
        },
        "id": "Rp9mNW2fbiS3",
        "outputId": "5efbd5dc-0c5e-41fa-f488-92e944e6b311"
      },
      "execution_count": 19,
      "outputs": [
        {
          "output_type": "execute_result",
          "data": {
            "text/plain": [
              "{'a', 'b', 'c'}"
            ]
          },
          "metadata": {},
          "execution_count": 19
        }
      ]
    },
    {
      "cell_type": "code",
      "source": [
        "#17. Write a code to clear all elements from the set {1, 2, 3, 4, 5}\n",
        "s= {1, 2, 3, 4, 5}\n",
        "s.clear()\n",
        "s"
      ],
      "metadata": {
        "colab": {
          "base_uri": "https://localhost:8080/"
        },
        "id": "Ve0p9-xFefpC",
        "outputId": "d4cafe1e-5f4f-44ef-be81-8c935fafbfda"
      },
      "execution_count": 21,
      "outputs": [
        {
          "output_type": "execute_result",
          "data": {
            "text/plain": [
              "set()"
            ]
          },
          "metadata": {},
          "execution_count": 21
        }
      ]
    },
    {
      "cell_type": "code",
      "source": [
        "#18. Write a code to remove the element 4 from the set {1, 2, 3, 4}.\n",
        "s={1,2,3,4}\n",
        "s.remove(4)\n",
        "s"
      ],
      "metadata": {
        "colab": {
          "base_uri": "https://localhost:8080/"
        },
        "id": "zF0ameTze-bg",
        "outputId": "ebcb4303-2e41-4800-8f7a-71b9eef40fb8"
      },
      "execution_count": 22,
      "outputs": [
        {
          "output_type": "execute_result",
          "data": {
            "text/plain": [
              "{1, 2, 3}"
            ]
          },
          "metadata": {},
          "execution_count": 22
        }
      ]
    },
    {
      "cell_type": "code",
      "source": [
        "#19.Write a code to find the union of two sets {1, 2, 3} and {3, 4, 5}.\n",
        "s1={1,2,3}\n",
        "s2={3,4,5}\n",
        "s=s1.union(s2)\n",
        "s"
      ],
      "metadata": {
        "colab": {
          "base_uri": "https://localhost:8080/"
        },
        "id": "NpnyazYXfL2t",
        "outputId": "10739361-4c33-4f35-ef66-24395261e13d"
      },
      "execution_count": 24,
      "outputs": [
        {
          "output_type": "execute_result",
          "data": {
            "text/plain": [
              "{1, 2, 3, 4, 5}"
            ]
          },
          "metadata": {},
          "execution_count": 24
        }
      ]
    },
    {
      "cell_type": "code",
      "source": [
        "#20.Write a code to find the intersection of two sets {1, 2, 3} and {2, 3, 4}.\n",
        "s1={1,2,3}\n",
        "s2={2,3,4}\n",
        "s=s1.intersection(s2)\n",
        "s"
      ],
      "metadata": {
        "colab": {
          "base_uri": "https://localhost:8080/"
        },
        "id": "s4jr8oKofaCF",
        "outputId": "1f061ece-39ee-4776-c053-292f0bf38fe2"
      },
      "execution_count": 25,
      "outputs": [
        {
          "output_type": "execute_result",
          "data": {
            "text/plain": [
              "{2, 3}"
            ]
          },
          "metadata": {},
          "execution_count": 25
        }
      ]
    },
    {
      "cell_type": "code",
      "source": [
        "# 21.create a dictionary with the keys \"name\", \"age\",\"city\", and print it.\n",
        "dict1={'name': 'Manya','age':19, 'city':'ghaziabad'}\n",
        "dict1"
      ],
      "metadata": {
        "colab": {
          "base_uri": "https://localhost:8080/"
        },
        "id": "VCb7AFA3hGsA",
        "outputId": "3e03655d-e9f3-422d-d556-91b446249cc8"
      },
      "execution_count": 27,
      "outputs": [
        {
          "output_type": "execute_result",
          "data": {
            "text/plain": [
              "{'name': 'Manya', 'age': 19, 'city': 'ghaziabad'}"
            ]
          },
          "metadata": {},
          "execution_count": 27
        }
      ]
    },
    {
      "cell_type": "code",
      "source": [
        "#22.add a key-value pair \"country\": \"USA\" to {'name': 'John', 'age': 25}\n",
        "dd={'name': 'John', 'age': 25}\n",
        "dd['country']='USA'\n",
        "dd"
      ],
      "metadata": {
        "colab": {
          "base_uri": "https://localhost:8080/"
        },
        "id": "CmkGOEG3jeCZ",
        "outputId": "d9ed9743-9c99-4ce3-aa8a-1fc7804f39d4"
      },
      "execution_count": 28,
      "outputs": [
        {
          "output_type": "execute_result",
          "data": {
            "text/plain": [
              "{'name': 'John', 'age': 25, 'country': 'USA'}"
            ]
          },
          "metadata": {},
          "execution_count": 28
        }
      ]
    },
    {
      "cell_type": "code",
      "source": [
        "#23. access the value associated w key \"name\" in {'name': 'Alice', 'age': 30}.\n",
        "dd1={'name':'Alice', 'age':30}\n",
        "dd1['name']"
      ],
      "metadata": {
        "colab": {
          "base_uri": "https://localhost:8080/",
          "height": 36
        },
        "id": "3dbsdj4YkURy",
        "outputId": "5ce5e1c6-2d85-4ef2-e0d5-7d68b3603e28"
      },
      "execution_count": 30,
      "outputs": [
        {
          "output_type": "execute_result",
          "data": {
            "text/plain": [
              "'Alice'"
            ],
            "application/vnd.google.colaboratory.intrinsic+json": {
              "type": "string"
            }
          },
          "metadata": {},
          "execution_count": 30
        }
      ]
    },
    {
      "cell_type": "code",
      "source": [
        "#24. Write a code to remove the key \"age\" from the dictionary {'name': 'Bob', 'age': 22, 'city': 'New York'}.\n",
        "dict1= {'name': 'Bob', 'age': 22, 'city': 'New York'}\n",
        "dict1.pop('age')\n",
        "dict1"
      ],
      "metadata": {
        "colab": {
          "base_uri": "https://localhost:8080/"
        },
        "id": "IJ7tH-yPk4wt",
        "outputId": "f1af2ed5-e341-4db7-b7ec-094aed92eea0"
      },
      "execution_count": 44,
      "outputs": [
        {
          "output_type": "execute_result",
          "data": {
            "text/plain": [
              "{'name': 'Bob', 'city': 'New York'}"
            ]
          },
          "metadata": {},
          "execution_count": 44
        }
      ]
    },
    {
      "cell_type": "code",
      "source": [
        "#25.check if \"city\" exists in the dictionary {'name': 'Alice', 'city': 'Paris'}\n",
        "dd2= {'name': 'Alice', 'city': 'Paris'}\n",
        "if 'city' in dd2:\n",
        "    print(\"The key 'city' exists in the dictionary.\")\n",
        "else:\n",
        "    print(\"The key 'city' does not exist in the dictionary.\")\n"
      ],
      "metadata": {
        "colab": {
          "base_uri": "https://localhost:8080/"
        },
        "id": "d7VmpuO_lvrA",
        "outputId": "9ad3752d-ebad-47eb-cf3a-a85d5f1d32d3"
      },
      "execution_count": 31,
      "outputs": [
        {
          "output_type": "stream",
          "name": "stdout",
          "text": [
            "The key 'city' exists in the dictionary.\n"
          ]
        }
      ]
    },
    {
      "cell_type": "code",
      "source": [
        "#26.create a list, a tuple, and a dictionary, and print them all\n",
        "l1=[1,2,3,4]\n",
        "t1=(1,2,3,4)\n",
        "d1={1:'a', 2:'b',3:'c'}\n",
        "print(l1,t1,d1, sep='\\n')"
      ],
      "metadata": {
        "colab": {
          "base_uri": "https://localhost:8080/"
        },
        "id": "yDTTL9EZm3Tr",
        "outputId": "4b2e1cfb-ac2c-40db-ba41-51355fc0c09c"
      },
      "execution_count": 33,
      "outputs": [
        {
          "output_type": "stream",
          "name": "stdout",
          "text": [
            "[1, 2, 3, 4]\n",
            "(1, 2, 3, 4)\n",
            "{1: 'a', 2: 'b', 3: 'c'}\n"
          ]
        }
      ]
    },
    {
      "cell_type": "code",
      "source": [
        "#27.create list of 5 random nums bw 1-100 sort it in ascending order and print\n",
        "import random\n",
        "random_numbers = [random.randint(1, 100) for i in range(5)]\n",
        "random_numbers.sort()\n",
        "print(\"Sorted list of random numbers:\", random_numbers)"
      ],
      "metadata": {
        "colab": {
          "base_uri": "https://localhost:8080/"
        },
        "id": "Va-qR-kOnzy7",
        "outputId": "448276ac-57f9-40d4-950f-8d5c8529b560"
      },
      "execution_count": 34,
      "outputs": [
        {
          "output_type": "stream",
          "name": "stdout",
          "text": [
            "Sorted list of random numbers: [19, 39, 41, 78, 89]\n"
          ]
        }
      ]
    },
    {
      "cell_type": "code",
      "source": [
        "#28.create a list with strings and print the element at the third index.\n",
        "strlist=['a','b','c','d','e']\n",
        "ele3=strlist[2]\n",
        "ele3"
      ],
      "metadata": {
        "colab": {
          "base_uri": "https://localhost:8080/",
          "height": 36
        },
        "id": "qL942ykKzPCO",
        "outputId": "1256591b-4bd5-4ee0-8ab5-14b7dcc38831"
      },
      "execution_count": 35,
      "outputs": [
        {
          "output_type": "execute_result",
          "data": {
            "text/plain": [
              "'c'"
            ],
            "application/vnd.google.colaboratory.intrinsic+json": {
              "type": "string"
            }
          },
          "metadata": {},
          "execution_count": 35
        }
      ]
    },
    {
      "cell_type": "code",
      "source": [
        "#29.combine two dictionaries into one and print the result.\n",
        "d1={1:'a',2:'b'}\n",
        "d2={3:'c',4:'d'}\n",
        "d1.update(d2)\n",
        "d1"
      ],
      "metadata": {
        "colab": {
          "base_uri": "https://localhost:8080/"
        },
        "id": "S9rTbxe30xsN",
        "outputId": "bde32246-1040-4b1e-b7f4-165ed153df25"
      },
      "execution_count": 39,
      "outputs": [
        {
          "output_type": "execute_result",
          "data": {
            "text/plain": [
              "{1: 'a', 2: 'b', 3: 'c', 4: 'd'}"
            ]
          },
          "metadata": {},
          "execution_count": 39
        }
      ]
    },
    {
      "cell_type": "code",
      "source": [
        "#30. Write a code to convert a list of strings into a set.\n",
        "string_list = ['apple', 'banana', 'cherry', 'apple', 'banana']\n",
        "string_set = set(string_list)\n",
        "print(\"Set of strings:\", string_set)\n"
      ],
      "metadata": {
        "colab": {
          "base_uri": "https://localhost:8080/"
        },
        "id": "4eVHHnQb2BO4",
        "outputId": "aaac46bc-0431-4c12-97e6-18b9fc38ef25"
      },
      "execution_count": 41,
      "outputs": [
        {
          "output_type": "stream",
          "name": "stdout",
          "text": [
            "Set of strings: {'banana', 'apple', 'cherry'}\n"
          ]
        }
      ]
    }
  ]
}